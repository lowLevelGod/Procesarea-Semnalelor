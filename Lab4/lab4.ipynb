{
 "cells": [
  {
   "cell_type": "code",
   "execution_count": 1,
   "metadata": {},
   "outputs": [],
   "source": [
    "import numpy as np\n",
    "import matplotlib.pyplot as plt\n",
    "import time"
   ]
  },
  {
   "cell_type": "code",
   "execution_count": null,
   "metadata": {},
   "outputs": [
    {
     "ename": "AttributeError",
     "evalue": "'numpy.ndarray' object has no attribute 'time'",
     "output_type": "error",
     "traceback": [
      "\u001b[0;31m---------------------------------------------------------------------------\u001b[0m",
      "\u001b[0;31mAttributeError\u001b[0m                            Traceback (most recent call last)",
      "\u001b[1;32m/home/keyglock/Procesarea Semnalelor/Procesarea-Semnalelor/Lab4/lab4.ipynb Cell 2\u001b[0m line \u001b[0;36m1\n\u001b[1;32m     <a href='vscode-notebook-cell://wsl%2Bubuntu/home/keyglock/Procesarea%20Semnalelor/Procesarea-Semnalelor/Lab4/lab4.ipynb#W1sdnNjb2RlLXJlbW90ZQ%3D%3D?line=14'>15</a>\u001b[0m time \u001b[39m=\u001b[39m np\u001b[39m.\u001b[39mlinspace(\u001b[39m0\u001b[39m, \u001b[39m1\u001b[39m, N)\n\u001b[1;32m     <a href='vscode-notebook-cell://wsl%2Bubuntu/home/keyglock/Procesarea%20Semnalelor/Procesarea-Semnalelor/Lab4/lab4.ipynb#W1sdnNjb2RlLXJlbW90ZQ%3D%3D?line=15'>16</a>\u001b[0m sine \u001b[39m=\u001b[39m np\u001b[39m.\u001b[39msin(\u001b[39m2\u001b[39m \u001b[39m*\u001b[39m np\u001b[39m.\u001b[39mpi \u001b[39m*\u001b[39m time)\n\u001b[0;32m---> <a href='vscode-notebook-cell://wsl%2Bubuntu/home/keyglock/Procesarea%20Semnalelor/Procesarea-Semnalelor/Lab4/lab4.ipynb#W1sdnNjb2RlLXJlbW90ZQ%3D%3D?line=17'>18</a>\u001b[0m start_dft \u001b[39m=\u001b[39m time\u001b[39m.\u001b[39;49mtime()\n\u001b[1;32m     <a href='vscode-notebook-cell://wsl%2Bubuntu/home/keyglock/Procesarea%20Semnalelor/Procesarea-Semnalelor/Lab4/lab4.ipynb#W1sdnNjb2RlLXJlbW90ZQ%3D%3D?line=18'>19</a>\u001b[0m dft(N, sine)\n\u001b[1;32m     <a href='vscode-notebook-cell://wsl%2Bubuntu/home/keyglock/Procesarea%20Semnalelor/Procesarea-Semnalelor/Lab4/lab4.ipynb#W1sdnNjb2RlLXJlbW90ZQ%3D%3D?line=19'>20</a>\u001b[0m end_dft \u001b[39m=\u001b[39m time\u001b[39m.\u001b[39mtime()\n",
      "\u001b[0;31mAttributeError\u001b[0m: 'numpy.ndarray' object has no attribute 'time'"
     ]
    }
   ],
   "source": [
    "# ex1\n",
    "\n",
    "def dft(N, x):\n",
    "    w = np.e ** (-2 * np.pi * 1j / N)\n",
    "\n",
    "    fourierMatrix = np.zeros((N, N), dtype=complex)\n",
    "\n",
    "    for i in range(N):\n",
    "        for j in range(N):\n",
    "            fourierMatrix[i, j] = w ** (i * j)\n",
    "            \n",
    "    return np.dot(fourierMatrix, x)\n",
    "\n",
    "time_dft = []\n",
    "time_fft = []\n",
    "for N in [128, 256, 512, 1024, 2048, 4096, 8192]:\n",
    "    sine = np.sin(2 * np.pi * np.linspace(0, 1, N))\n",
    "    \n",
    "    start_dft = time.time()\n",
    "    dft(N, sine)\n",
    "    end_dft = time.time()\n",
    "    \n",
    "    time_dft.append(end_dft - start_dft)\n",
    "    \n",
    "    start_fft = time.time()\n",
    "    np.fft.fft(sine)\n",
    "    end_fft = time.time()\n",
    "    \n",
    "    time_fft.append(end_fft - start_fft)\n",
    "\n",
    "\n",
    "plt.plot([128, 256, 512, 1024, 2048, 4096, 8192], np.log(time_dft), label=\"DFT O(N^2)\")\n",
    "plt.plot([128, 256, 512, 1024, 2048, 4096, 8192], np.log(time_fft), label=\"FFT O(NlogN)\")\n",
    "plt.legend()\n",
    "\n",
    "plt.savefig(\"dft_vs_fft.pdf\")\n",
    "plt.show()"
   ]
  }
 ],
 "metadata": {
  "kernelspec": {
   "display_name": ".venv",
   "language": "python",
   "name": "python3"
  },
  "language_info": {
   "codemirror_mode": {
    "name": "ipython",
    "version": 3
   },
   "file_extension": ".py",
   "mimetype": "text/x-python",
   "name": "python",
   "nbconvert_exporter": "python",
   "pygments_lexer": "ipython3",
   "version": "3.8.10"
  }
 },
 "nbformat": 4,
 "nbformat_minor": 2
}
