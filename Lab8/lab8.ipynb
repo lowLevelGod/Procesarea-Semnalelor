{
 "cells": [
  {
   "cell_type": "code",
   "execution_count": null,
   "metadata": {},
   "outputs": [],
   "source": [
    "import numpy as np\n",
    "import matplotlib.pyplot as plt"
   ]
  },
  {
   "cell_type": "code",
   "execution_count": null,
   "metadata": {},
   "outputs": [],
   "source": [
    "# a)\n",
    "\n",
    "trend = lambda x : 5 * x ** 2 + 3 * x + 1\n",
    "sezon = lambda x: np.sin(2 * np.pi * 5 * x) + np.sin(2 * np.pi * 7 * x)\n",
    "variatii = lambda x:  np.random.normal(0,1,len(x))\n",
    "\n",
    "N = 1000\n",
    "time = np.linspace(0, 1, N)\n",
    "t = trend(time)\n",
    "s = sezon(time)\n",
    "v = variatii(time)\n",
    "\n",
    "signal = t + s + v \n",
    "\n",
    "fig, axs = plt.subplots(4)\n",
    "axs[0].plot(time, t)\n",
    "axs[0].set_title(\"trend\")\n",
    "axs[1].plot(time, s)\n",
    "axs[1].set_title(\"sezon\")\n",
    "axs[2].plot(time, v)\n",
    "axs[2].set_title(\"variatii\")\n",
    "axs[3].plot(time, signal)\n",
    "axs[3].set_title(\"semnal\")\n",
    "\n",
    "fig.savefig(\"ex1_a.pdf\")\n",
    "fig.show()\n",
    "\n"
   ]
  },
  {
   "cell_type": "code",
   "execution_count": null,
   "metadata": {},
   "outputs": [],
   "source": [
    "# b)\n",
    "\n",
    "signalAltered = (signal - np.mean(signal)) / (np.std(signal))\n",
    "correlation_vector = np.correlate(signalAltered, signalAltered, mode=\"full\") \n",
    "correlation_vector = correlation_vector[correlation_vector.size // 2:] / N\n",
    "\n",
    "plt.plot(correlation_vector)\n",
    "plt.savefig(\"ex2_b.pdf\")\n",
    "plt.show()"
   ]
  },
  {
   "cell_type": "code",
   "execution_count": 58,
   "metadata": {},
   "outputs": [
    {
     "name": "stdout",
     "output_type": "stream",
     "text": [
      "(799,)\n"
     ]
    },
    {
     "ename": "ValueError",
     "evalue": "all the input array dimensions except for the concatenation axis must match exactly, but along dimension 0, the array at index 0 has size 799 and the array at index 1 has size 0",
     "output_type": "error",
     "traceback": [
      "\u001b[0;31m---------------------------------------------------------------------------\u001b[0m",
      "\u001b[0;31mValueError\u001b[0m                                Traceback (most recent call last)",
      "\u001b[1;32m/Users/petre/Procesarea-Semnalelor/Lab8/lab8.ipynb Cell 4\u001b[0m line \u001b[0;36m2\n\u001b[1;32m     <a href='vscode-notebook-cell:/Users/petre/Procesarea-Semnalelor/Lab8/lab8.ipynb#W3sZmlsZQ%3D%3D?line=17'>18</a>\u001b[0m trainSignal \u001b[39m=\u001b[39m signal[: foldSize]\n\u001b[1;32m     <a href='vscode-notebook-cell:/Users/petre/Procesarea-Semnalelor/Lab8/lab8.ipynb#W3sZmlsZQ%3D%3D?line=18'>19</a>\u001b[0m testSignal \u001b[39m=\u001b[39m signal[foldSize:]\n\u001b[0;32m---> <a href='vscode-notebook-cell:/Users/petre/Procesarea-Semnalelor/Lab8/lab8.ipynb#W3sZmlsZQ%3D%3D?line=20'>21</a>\u001b[0m x_star \u001b[39m=\u001b[39m train(trainSignal, \u001b[39m2\u001b[39;49m)\n",
      "\u001b[1;32m/Users/petre/Procesarea-Semnalelor/Lab8/lab8.ipynb Cell 4\u001b[0m line \u001b[0;36m1\n\u001b[1;32m      <a href='vscode-notebook-cell:/Users/petre/Procesarea-Semnalelor/Lab8/lab8.ipynb#W3sZmlsZQ%3D%3D?line=7'>8</a>\u001b[0m \u001b[39mfor\u001b[39;00m i \u001b[39min\u001b[39;00m \u001b[39mrange\u001b[39m(\u001b[39m2\u001b[39m, p \u001b[39m+\u001b[39m \u001b[39m1\u001b[39m):\n\u001b[1;32m      <a href='vscode-notebook-cell:/Users/petre/Procesarea-Semnalelor/Lab8/lab8.ipynb#W3sZmlsZQ%3D%3D?line=8'>9</a>\u001b[0m     shifted \u001b[39m=\u001b[39m trainSignal[i : trainSignal\u001b[39m.\u001b[39msize \u001b[39m-\u001b[39m p : \u001b[39m-\u001b[39m\u001b[39m1\u001b[39m]\n\u001b[0;32m---> <a href='vscode-notebook-cell:/Users/petre/Procesarea-Semnalelor/Lab8/lab8.ipynb#W3sZmlsZQ%3D%3D?line=9'>10</a>\u001b[0m     Y \u001b[39m=\u001b[39m np\u001b[39m.\u001b[39;49mcolumn_stack((Y, shifted))\n\u001b[1;32m     <a href='vscode-notebook-cell:/Users/petre/Procesarea-Semnalelor/Lab8/lab8.ipynb#W3sZmlsZQ%3D%3D?line=11'>12</a>\u001b[0m \u001b[39mprint\u001b[39m(trainSignal\u001b[39m.\u001b[39mshape)\n\u001b[1;32m     <a href='vscode-notebook-cell:/Users/petre/Procesarea-Semnalelor/Lab8/lab8.ipynb#W3sZmlsZQ%3D%3D?line=12'>13</a>\u001b[0m x_star \u001b[39m=\u001b[39m np\u001b[39m.\u001b[39mlinalg\u001b[39m.\u001b[39mlstsq(Y, trainSignal, rcond\u001b[39m=\u001b[39m\u001b[39mNone\u001b[39;00m)[\u001b[39m0\u001b[39m]\n",
      "File \u001b[0;32m~/.venv/lib/python3.9/site-packages/numpy/lib/shape_base.py:652\u001b[0m, in \u001b[0;36mcolumn_stack\u001b[0;34m(tup)\u001b[0m\n\u001b[1;32m    650\u001b[0m         arr \u001b[39m=\u001b[39m array(arr, copy\u001b[39m=\u001b[39m\u001b[39mFalse\u001b[39;00m, subok\u001b[39m=\u001b[39m\u001b[39mTrue\u001b[39;00m, ndmin\u001b[39m=\u001b[39m\u001b[39m2\u001b[39m)\u001b[39m.\u001b[39mT\n\u001b[1;32m    651\u001b[0m     arrays\u001b[39m.\u001b[39mappend(arr)\n\u001b[0;32m--> 652\u001b[0m \u001b[39mreturn\u001b[39;00m _nx\u001b[39m.\u001b[39;49mconcatenate(arrays, \u001b[39m1\u001b[39;49m)\n",
      "\u001b[0;31mValueError\u001b[0m: all the input array dimensions except for the concatenation axis must match exactly, but along dimension 0, the array at index 0 has size 799 and the array at index 1 has size 0"
     ]
    }
   ],
   "source": [
    "# c)\n",
    "\n",
    "p = 2\n",
    "\n",
    "def train(trainSignal, p):\n",
    "    Y =  trainSignal[trainSignal.size - 2 : 0 : -1]\n",
    "    print(Y.shape)\n",
    "    for i in range(2, p + 1):\n",
    "        shifted = trainSignal[trainSignal.size - p - 1 : i - 1 : -1]\n",
    "        Y = np.column_stack((Y, shifted))\n",
    "\n",
    "    print(trainSignal.shape)\n",
    "    x_star = np.linalg.lstsq(Y, trainSignal, rcond=None)[0]\n",
    "    \n",
    "    return x_star\n",
    "\n",
    "foldSize = 800\n",
    "trainSignal = signal[: foldSize]\n",
    "testSignal = signal[foldSize:]\n",
    "\n",
    "x_star = train(trainSignal, 2)\n",
    "    \n",
    "        "
   ]
  }
 ],
 "metadata": {
  "kernelspec": {
   "display_name": ".venv",
   "language": "python",
   "name": "python3"
  },
  "language_info": {
   "codemirror_mode": {
    "name": "ipython",
    "version": 3
   },
   "file_extension": ".py",
   "mimetype": "text/x-python",
   "name": "python",
   "nbconvert_exporter": "python",
   "pygments_lexer": "ipython3",
   "version": "3.9.6"
  }
 },
 "nbformat": 4,
 "nbformat_minor": 2
}
